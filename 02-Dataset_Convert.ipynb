{
 "cells": [
  {
   "cell_type": "markdown",
   "metadata": {},
   "source": [
    "### ANÁLISE E PREVISÃO DA ARRECADAÇÃO FEDERAL\n",
    "\n",
    "Autor: GABRIEL RODRIGUES  MARCOLINI"
   ]
  },
  {
   "cell_type": "code",
   "execution_count": 1,
   "metadata": {},
   "outputs": [],
   "source": [
    "#pip install odfpy"
   ]
  },
  {
   "cell_type": "code",
   "execution_count": 2,
   "metadata": {},
   "outputs": [],
   "source": [
    "import pandas as pd\n",
    "import os\n",
    "from os import walk\n",
    "from tqdm import tqdm\n",
    "import calendar"
   ]
  },
  {
   "cell_type": "code",
   "execution_count": 3,
   "metadata": {},
   "outputs": [],
   "source": [
    "dataset_path_input = os.getcwd()+'\\\\dataset\\\\ODS\\\\'\n",
    "dataset_path_output = os.getcwd()+'\\\\dataset\\\\CSV\\\\'\n",
    "filename_output = 'arrecadacao-por-uf-internet-2015-2020.csv'"
   ]
  },
  {
   "cell_type": "code",
   "execution_count": 4,
   "metadata": {},
   "outputs": [],
   "source": [
    "f=[]\n",
    "for (dirpath, dirnames, filenames) in walk(dataset_path_input):\n",
    "    f.extend(filenames)"
   ]
  },
  {
   "cell_type": "code",
   "execution_count": 5,
   "metadata": {},
   "outputs": [],
   "source": [
    "if os.path.isfile(dataset_path_output+filename_output):\n",
    "    os.remove(dataset_path_output+filename_output)"
   ]
  },
  {
   "cell_type": "code",
   "execution_count": 6,
   "metadata": {},
   "outputs": [
    {
     "name": "stderr",
     "output_type": "stream",
     "text": [
      "100%|██████████████████████████████████████████████████████████████████████████████████| 66/66 [00:07<00:00,  8.45it/s]"
     ]
    },
    {
     "name": "stdout",
     "output_type": "stream",
     "text": [
      "\n",
      "Job Done!\n"
     ]
    },
    {
     "name": "stderr",
     "output_type": "stream",
     "text": [
      "\n"
     ]
    }
   ],
   "source": [
    "for sigle_file in tqdm(filenames):\n",
    "    file_month=str(sigle_file[-6:-4])\n",
    "    file_year=str(sigle_file[-10:-6])\n",
    "    last_day = calendar.monthrange(int(file_year), int(file_month))[1]\n",
    "    pd_table = pd.read_excel(dataset_path_input+sigle_file, engine=\"odf\",index_col=0,skiprows=11)\n",
    "    pd_table_stack = pd.DataFrame(data=pd_table.stack())\n",
    "    pd_table_stack['DATA'] = file_year+'-'+file_month+'-'+str(last_day)\n",
    "    pd_table_stack.reset_index(inplace=True)\n",
    "    pd_table_stack.columns=['RECEITAS','UF', 'VALOR', 'DATA']\n",
    "    pd_table_stack.to_csv(dataset_path_output+filename_output,mode='a',index=False)\n",
    "    \n",
    "print('\\n'+'Job Done!')"
   ]
  }
 ],
 "metadata": {
  "kernelspec": {
   "display_name": "Python 3",
   "language": "python",
   "name": "python3"
  },
  "language_info": {
   "codemirror_mode": {
    "name": "ipython",
    "version": 3
   },
   "file_extension": ".py",
   "mimetype": "text/x-python",
   "name": "python",
   "nbconvert_exporter": "python",
   "pygments_lexer": "ipython3",
   "version": "3.7.6"
  }
 },
 "nbformat": 4,
 "nbformat_minor": 4
}
