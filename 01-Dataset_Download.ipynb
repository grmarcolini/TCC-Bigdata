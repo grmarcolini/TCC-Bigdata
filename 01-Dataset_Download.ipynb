{
 "cells": [
  {
   "cell_type": "markdown",
   "metadata": {},
   "source": [
    "### ANÁLISE E PREVISÃO DA ARRECADAÇÃO FEDERAL\n",
    "\n",
    "Autor: GABRIEL RODRIGUES  MARCOLINI"
   ]
  },
  {
   "cell_type": "code",
   "execution_count": 1,
   "metadata": {},
   "outputs": [
    {
     "name": "stdout",
     "output_type": "stream",
     "text": [
      "Requirement already satisfied: wget in c:\\users\\grmar\\anaconda3\\lib\\site-packages (3.2)\n",
      "Note: you may need to restart the kernel to use updated packages.\n"
     ]
    }
   ],
   "source": [
    "#pip install wget"
   ]
  },
  {
   "cell_type": "code",
   "execution_count": 2,
   "metadata": {},
   "outputs": [],
   "source": [
    "import wget, os, requests, urllib"
   ]
  },
  {
   "cell_type": "markdown",
   "metadata": {},
   "source": [
    "link_base = http://receita.economia.gov.br/dados/receitadata/arrecadacao/arrecadacao-por-estado/\n",
    "\n",
    "link_referencia = http://receita.economia.gov.br/dados/receitadata/arrecadacao/arrecadacao-por-estado/arrecadacao-uf-2015/arrecadacao-por-uf-internet-jan15.ods"
   ]
  },
  {
   "cell_type": "code",
   "execution_count": 3,
   "metadata": {},
   "outputs": [],
   "source": [
    "url_base = 'http://receita.economia.gov.br/dados/receitadata/arrecadacao/arrecadacao-por-estado/arrecadacao-uf-'\n",
    "\n",
    "year_list = ['2015','2016','2017','2018','2019','2020']\n",
    "\n",
    "month_dict = {'jan':'01','janeiro':'01',\n",
    "              'fev':'02','fevereiro':'02',\n",
    "              'mar':'03','marco':'03','março':'03',\n",
    "              'abr':'04','abril':'04',\n",
    "              'mai':'05','maio':'05',\n",
    "              'jun':'06','junho':'06',\n",
    "              'jul':'07','julho':'07',\n",
    "              'ago':'08','agosto':'08',\n",
    "              'set':'09','setembro':'09',\n",
    "              'out':'10','outubro':'10',\n",
    "              'nov':'11','novembro':'11',\n",
    "              'dez':'12','dezembro':'12'}\n",
    "\n",
    "dataset_path = os.getcwd()+'\\\\dataset\\\\ODS\\\\'"
   ]
  },
  {
   "cell_type": "code",
   "execution_count": 4,
   "metadata": {},
   "outputs": [
    {
     "name": "stdout",
     "output_type": "stream",
     "text": [
      "100% [..............................................................................] 32076 / 32076\n",
      "Download Finished!\n"
     ]
    }
   ],
   "source": [
    "url_fail = []\n",
    "url_ok = []\n",
    "file_list = []\n",
    "for year in year_list:\n",
    "    for month in month_dict:\n",
    "        url = url_base+year+'/arrecadacao-por-uf-internet-'+month+year[2:4]+'.ods'\n",
    "        output_file_name = 'arrecadacao-por-uf-internet-'+year+month_dict[month]+'.ods'\n",
    "        try:\n",
    "            filename = wget.download(url,dataset_path+output_file_name)\n",
    "            url_ok.append(url)\n",
    "            file_list.append(output_file_name)\n",
    "        except:\n",
    "            url_fail.append('URL not found: ' + url)\n",
    "print('\\n'+'Download Finished!')\n",
    "    "
   ]
  },
  {
   "cell_type": "code",
   "execution_count": 5,
   "metadata": {
    "scrolled": true
   },
   "outputs": [
    {
     "data": {
      "text/plain": [
       "['http://receita.economia.gov.br/dados/receitadata/arrecadacao/arrecadacao-por-estado/arrecadacao-uf-2015/arrecadacao-por-uf-internet-jan15.ods',\n",
       " 'http://receita.economia.gov.br/dados/receitadata/arrecadacao/arrecadacao-por-estado/arrecadacao-uf-2015/arrecadacao-por-uf-internet-fev15.ods',\n",
       " 'http://receita.economia.gov.br/dados/receitadata/arrecadacao/arrecadacao-por-estado/arrecadacao-uf-2015/arrecadacao-por-uf-internet-mar15.ods',\n",
       " 'http://receita.economia.gov.br/dados/receitadata/arrecadacao/arrecadacao-por-estado/arrecadacao-uf-2015/arrecadacao-por-uf-internet-abr15.ods',\n",
       " 'http://receita.economia.gov.br/dados/receitadata/arrecadacao/arrecadacao-por-estado/arrecadacao-uf-2015/arrecadacao-por-uf-internet-mai15.ods',\n",
       " 'http://receita.economia.gov.br/dados/receitadata/arrecadacao/arrecadacao-por-estado/arrecadacao-uf-2015/arrecadacao-por-uf-internet-jun15.ods',\n",
       " 'http://receita.economia.gov.br/dados/receitadata/arrecadacao/arrecadacao-por-estado/arrecadacao-uf-2015/arrecadacao-por-uf-internet-jul15.ods',\n",
       " 'http://receita.economia.gov.br/dados/receitadata/arrecadacao/arrecadacao-por-estado/arrecadacao-uf-2015/arrecadacao-por-uf-internet-ago15.ods',\n",
       " 'http://receita.economia.gov.br/dados/receitadata/arrecadacao/arrecadacao-por-estado/arrecadacao-uf-2015/arrecadacao-por-uf-internet-set15.ods',\n",
       " 'http://receita.economia.gov.br/dados/receitadata/arrecadacao/arrecadacao-por-estado/arrecadacao-uf-2015/arrecadacao-por-uf-internet-out15.ods',\n",
       " 'http://receita.economia.gov.br/dados/receitadata/arrecadacao/arrecadacao-por-estado/arrecadacao-uf-2015/arrecadacao-por-uf-internet-nov15.ods',\n",
       " 'http://receita.economia.gov.br/dados/receitadata/arrecadacao/arrecadacao-por-estado/arrecadacao-uf-2015/arrecadacao-por-uf-internet-dez15.ods',\n",
       " 'http://receita.economia.gov.br/dados/receitadata/arrecadacao/arrecadacao-por-estado/arrecadacao-uf-2016/arrecadacao-por-uf-internet-jan16.ods',\n",
       " 'http://receita.economia.gov.br/dados/receitadata/arrecadacao/arrecadacao-por-estado/arrecadacao-uf-2016/arrecadacao-por-uf-internet-fev16.ods',\n",
       " 'http://receita.economia.gov.br/dados/receitadata/arrecadacao/arrecadacao-por-estado/arrecadacao-uf-2016/arrecadacao-por-uf-internet-mar16.ods',\n",
       " 'http://receita.economia.gov.br/dados/receitadata/arrecadacao/arrecadacao-por-estado/arrecadacao-uf-2016/arrecadacao-por-uf-internet-abr16.ods',\n",
       " 'http://receita.economia.gov.br/dados/receitadata/arrecadacao/arrecadacao-por-estado/arrecadacao-uf-2016/arrecadacao-por-uf-internet-maio16.ods',\n",
       " 'http://receita.economia.gov.br/dados/receitadata/arrecadacao/arrecadacao-por-estado/arrecadacao-uf-2016/arrecadacao-por-uf-internet-jun16.ods',\n",
       " 'http://receita.economia.gov.br/dados/receitadata/arrecadacao/arrecadacao-por-estado/arrecadacao-uf-2016/arrecadacao-por-uf-internet-jul16.ods',\n",
       " 'http://receita.economia.gov.br/dados/receitadata/arrecadacao/arrecadacao-por-estado/arrecadacao-uf-2016/arrecadacao-por-uf-internet-ago16.ods',\n",
       " 'http://receita.economia.gov.br/dados/receitadata/arrecadacao/arrecadacao-por-estado/arrecadacao-uf-2016/arrecadacao-por-uf-internet-set16.ods',\n",
       " 'http://receita.economia.gov.br/dados/receitadata/arrecadacao/arrecadacao-por-estado/arrecadacao-uf-2016/arrecadacao-por-uf-internet-out16.ods',\n",
       " 'http://receita.economia.gov.br/dados/receitadata/arrecadacao/arrecadacao-por-estado/arrecadacao-uf-2016/arrecadacao-por-uf-internet-nov16.ods',\n",
       " 'http://receita.economia.gov.br/dados/receitadata/arrecadacao/arrecadacao-por-estado/arrecadacao-uf-2016/arrecadacao-por-uf-internet-dez16.ods',\n",
       " 'http://receita.economia.gov.br/dados/receitadata/arrecadacao/arrecadacao-por-estado/arrecadacao-uf-2017/arrecadacao-por-uf-internet-jan17.ods',\n",
       " 'http://receita.economia.gov.br/dados/receitadata/arrecadacao/arrecadacao-por-estado/arrecadacao-uf-2017/arrecadacao-por-uf-internet-fev17.ods',\n",
       " 'http://receita.economia.gov.br/dados/receitadata/arrecadacao/arrecadacao-por-estado/arrecadacao-uf-2017/arrecadacao-por-uf-internet-mar17.ods',\n",
       " 'http://receita.economia.gov.br/dados/receitadata/arrecadacao/arrecadacao-por-estado/arrecadacao-uf-2017/arrecadacao-por-uf-internet-abr17.ods',\n",
       " 'http://receita.economia.gov.br/dados/receitadata/arrecadacao/arrecadacao-por-estado/arrecadacao-uf-2017/arrecadacao-por-uf-internet-maio17.ods',\n",
       " 'http://receita.economia.gov.br/dados/receitadata/arrecadacao/arrecadacao-por-estado/arrecadacao-uf-2017/arrecadacao-por-uf-internet-jun17.ods',\n",
       " 'http://receita.economia.gov.br/dados/receitadata/arrecadacao/arrecadacao-por-estado/arrecadacao-uf-2017/arrecadacao-por-uf-internet-julho17.ods',\n",
       " 'http://receita.economia.gov.br/dados/receitadata/arrecadacao/arrecadacao-por-estado/arrecadacao-uf-2017/arrecadacao-por-uf-internet-agosto17.ods',\n",
       " 'http://receita.economia.gov.br/dados/receitadata/arrecadacao/arrecadacao-por-estado/arrecadacao-uf-2017/arrecadacao-por-uf-internet-set17.ods',\n",
       " 'http://receita.economia.gov.br/dados/receitadata/arrecadacao/arrecadacao-por-estado/arrecadacao-uf-2017/arrecadacao-por-uf-internet-out17.ods',\n",
       " 'http://receita.economia.gov.br/dados/receitadata/arrecadacao/arrecadacao-por-estado/arrecadacao-uf-2017/arrecadacao-por-uf-internet-nov17.ods',\n",
       " 'http://receita.economia.gov.br/dados/receitadata/arrecadacao/arrecadacao-por-estado/arrecadacao-uf-2017/arrecadacao-por-uf-internet-dez17.ods',\n",
       " 'http://receita.economia.gov.br/dados/receitadata/arrecadacao/arrecadacao-por-estado/arrecadacao-uf-2018/arrecadacao-por-uf-internet-jan18.ods',\n",
       " 'http://receita.economia.gov.br/dados/receitadata/arrecadacao/arrecadacao-por-estado/arrecadacao-uf-2018/arrecadacao-por-uf-internet-fev18.ods',\n",
       " 'http://receita.economia.gov.br/dados/receitadata/arrecadacao/arrecadacao-por-estado/arrecadacao-uf-2018/arrecadacao-por-uf-internet-mar18.ods',\n",
       " 'http://receita.economia.gov.br/dados/receitadata/arrecadacao/arrecadacao-por-estado/arrecadacao-uf-2018/arrecadacao-por-uf-internet-abr18.ods',\n",
       " 'http://receita.economia.gov.br/dados/receitadata/arrecadacao/arrecadacao-por-estado/arrecadacao-uf-2018/arrecadacao-por-uf-internet-maio18.ods',\n",
       " 'http://receita.economia.gov.br/dados/receitadata/arrecadacao/arrecadacao-por-estado/arrecadacao-uf-2018/arrecadacao-por-uf-internet-jun18.ods',\n",
       " 'http://receita.economia.gov.br/dados/receitadata/arrecadacao/arrecadacao-por-estado/arrecadacao-uf-2018/arrecadacao-por-uf-internet-jul18.ods',\n",
       " 'http://receita.economia.gov.br/dados/receitadata/arrecadacao/arrecadacao-por-estado/arrecadacao-uf-2018/arrecadacao-por-uf-internet-ago18.ods',\n",
       " 'http://receita.economia.gov.br/dados/receitadata/arrecadacao/arrecadacao-por-estado/arrecadacao-uf-2018/arrecadacao-por-uf-internet-set18.ods',\n",
       " 'http://receita.economia.gov.br/dados/receitadata/arrecadacao/arrecadacao-por-estado/arrecadacao-uf-2018/arrecadacao-por-uf-internet-out18.ods',\n",
       " 'http://receita.economia.gov.br/dados/receitadata/arrecadacao/arrecadacao-por-estado/arrecadacao-uf-2018/arrecadacao-por-uf-internet-nov18.ods',\n",
       " 'http://receita.economia.gov.br/dados/receitadata/arrecadacao/arrecadacao-por-estado/arrecadacao-uf-2018/arrecadacao-por-uf-internet-dez18.ods',\n",
       " 'http://receita.economia.gov.br/dados/receitadata/arrecadacao/arrecadacao-por-estado/arrecadacao-uf-2019/arrecadacao-por-uf-internet-jan19.ods',\n",
       " 'http://receita.economia.gov.br/dados/receitadata/arrecadacao/arrecadacao-por-estado/arrecadacao-uf-2019/arrecadacao-por-uf-internet-fev19.ods',\n",
       " 'http://receita.economia.gov.br/dados/receitadata/arrecadacao/arrecadacao-por-estado/arrecadacao-uf-2019/arrecadacao-por-uf-internet-mar19.ods',\n",
       " 'http://receita.economia.gov.br/dados/receitadata/arrecadacao/arrecadacao-por-estado/arrecadacao-uf-2019/arrecadacao-por-uf-internet-abr19.ods',\n",
       " 'http://receita.economia.gov.br/dados/receitadata/arrecadacao/arrecadacao-por-estado/arrecadacao-uf-2019/arrecadacao-por-uf-internet-maio19.ods',\n",
       " 'http://receita.economia.gov.br/dados/receitadata/arrecadacao/arrecadacao-por-estado/arrecadacao-uf-2019/arrecadacao-por-uf-internet-jun19.ods',\n",
       " 'http://receita.economia.gov.br/dados/receitadata/arrecadacao/arrecadacao-por-estado/arrecadacao-uf-2019/arrecadacao-por-uf-internet-julho19.ods',\n",
       " 'http://receita.economia.gov.br/dados/receitadata/arrecadacao/arrecadacao-por-estado/arrecadacao-uf-2019/arrecadacao-por-uf-internet-ago19.ods',\n",
       " 'http://receita.economia.gov.br/dados/receitadata/arrecadacao/arrecadacao-por-estado/arrecadacao-uf-2019/arrecadacao-por-uf-internet-set19.ods',\n",
       " 'http://receita.economia.gov.br/dados/receitadata/arrecadacao/arrecadacao-por-estado/arrecadacao-uf-2019/arrecadacao-por-uf-internet-out19.ods',\n",
       " 'http://receita.economia.gov.br/dados/receitadata/arrecadacao/arrecadacao-por-estado/arrecadacao-uf-2019/arrecadacao-por-uf-internet-nov19.ods',\n",
       " 'http://receita.economia.gov.br/dados/receitadata/arrecadacao/arrecadacao-por-estado/arrecadacao-uf-2019/arrecadacao-por-uf-internet-dez19.ods',\n",
       " 'http://receita.economia.gov.br/dados/receitadata/arrecadacao/arrecadacao-por-estado/arrecadacao-uf-2020/arrecadacao-por-uf-internet-jan20.ods',\n",
       " 'http://receita.economia.gov.br/dados/receitadata/arrecadacao/arrecadacao-por-estado/arrecadacao-uf-2020/arrecadacao-por-uf-internet-fev20.ods',\n",
       " 'http://receita.economia.gov.br/dados/receitadata/arrecadacao/arrecadacao-por-estado/arrecadacao-uf-2020/arrecadacao-por-uf-internet-mar20.ods',\n",
       " 'http://receita.economia.gov.br/dados/receitadata/arrecadacao/arrecadacao-por-estado/arrecadacao-uf-2020/arrecadacao-por-uf-internet-abr20.ods',\n",
       " 'http://receita.economia.gov.br/dados/receitadata/arrecadacao/arrecadacao-por-estado/arrecadacao-uf-2020/arrecadacao-por-uf-internet-maio20.ods',\n",
       " 'http://receita.economia.gov.br/dados/receitadata/arrecadacao/arrecadacao-por-estado/arrecadacao-uf-2020/arrecadacao-por-uf-internet-junho20.ods',\n",
       " 'http://receita.economia.gov.br/dados/receitadata/arrecadacao/arrecadacao-por-estado/arrecadacao-uf-2020/arrecadacao-por-uf-internet-jul20.ods']"
      ]
     },
     "execution_count": 5,
     "metadata": {},
     "output_type": "execute_result"
    }
   ],
   "source": [
    "url_ok"
   ]
  },
  {
   "cell_type": "code",
   "execution_count": 6,
   "metadata": {
    "scrolled": true
   },
   "outputs": [
    {
     "data": {
      "text/plain": [
       "['arrecadacao-por-uf-internet-201501.ods',\n",
       " 'arrecadacao-por-uf-internet-201502.ods',\n",
       " 'arrecadacao-por-uf-internet-201503.ods',\n",
       " 'arrecadacao-por-uf-internet-201504.ods',\n",
       " 'arrecadacao-por-uf-internet-201505.ods',\n",
       " 'arrecadacao-por-uf-internet-201506.ods',\n",
       " 'arrecadacao-por-uf-internet-201507.ods',\n",
       " 'arrecadacao-por-uf-internet-201508.ods',\n",
       " 'arrecadacao-por-uf-internet-201509.ods',\n",
       " 'arrecadacao-por-uf-internet-201510.ods',\n",
       " 'arrecadacao-por-uf-internet-201511.ods',\n",
       " 'arrecadacao-por-uf-internet-201512.ods',\n",
       " 'arrecadacao-por-uf-internet-201601.ods',\n",
       " 'arrecadacao-por-uf-internet-201602.ods',\n",
       " 'arrecadacao-por-uf-internet-201603.ods',\n",
       " 'arrecadacao-por-uf-internet-201604.ods',\n",
       " 'arrecadacao-por-uf-internet-201605.ods',\n",
       " 'arrecadacao-por-uf-internet-201606.ods',\n",
       " 'arrecadacao-por-uf-internet-201607.ods',\n",
       " 'arrecadacao-por-uf-internet-201608.ods',\n",
       " 'arrecadacao-por-uf-internet-201609.ods',\n",
       " 'arrecadacao-por-uf-internet-201610.ods',\n",
       " 'arrecadacao-por-uf-internet-201611.ods',\n",
       " 'arrecadacao-por-uf-internet-201612.ods',\n",
       " 'arrecadacao-por-uf-internet-201701.ods',\n",
       " 'arrecadacao-por-uf-internet-201702.ods',\n",
       " 'arrecadacao-por-uf-internet-201703.ods',\n",
       " 'arrecadacao-por-uf-internet-201704.ods',\n",
       " 'arrecadacao-por-uf-internet-201705.ods',\n",
       " 'arrecadacao-por-uf-internet-201706.ods',\n",
       " 'arrecadacao-por-uf-internet-201707.ods',\n",
       " 'arrecadacao-por-uf-internet-201708.ods',\n",
       " 'arrecadacao-por-uf-internet-201709.ods',\n",
       " 'arrecadacao-por-uf-internet-201710.ods',\n",
       " 'arrecadacao-por-uf-internet-201711.ods',\n",
       " 'arrecadacao-por-uf-internet-201712.ods',\n",
       " 'arrecadacao-por-uf-internet-201801.ods',\n",
       " 'arrecadacao-por-uf-internet-201802.ods',\n",
       " 'arrecadacao-por-uf-internet-201803.ods',\n",
       " 'arrecadacao-por-uf-internet-201804.ods',\n",
       " 'arrecadacao-por-uf-internet-201805.ods',\n",
       " 'arrecadacao-por-uf-internet-201806.ods',\n",
       " 'arrecadacao-por-uf-internet-201807.ods',\n",
       " 'arrecadacao-por-uf-internet-201808.ods',\n",
       " 'arrecadacao-por-uf-internet-201809.ods',\n",
       " 'arrecadacao-por-uf-internet-201810.ods',\n",
       " 'arrecadacao-por-uf-internet-201811.ods',\n",
       " 'arrecadacao-por-uf-internet-201812.ods',\n",
       " 'arrecadacao-por-uf-internet-201901.ods',\n",
       " 'arrecadacao-por-uf-internet-201902.ods',\n",
       " 'arrecadacao-por-uf-internet-201903.ods',\n",
       " 'arrecadacao-por-uf-internet-201904.ods',\n",
       " 'arrecadacao-por-uf-internet-201905.ods',\n",
       " 'arrecadacao-por-uf-internet-201906.ods',\n",
       " 'arrecadacao-por-uf-internet-201907.ods',\n",
       " 'arrecadacao-por-uf-internet-201908.ods',\n",
       " 'arrecadacao-por-uf-internet-201909.ods',\n",
       " 'arrecadacao-por-uf-internet-201910.ods',\n",
       " 'arrecadacao-por-uf-internet-201911.ods',\n",
       " 'arrecadacao-por-uf-internet-201912.ods',\n",
       " 'arrecadacao-por-uf-internet-202001.ods',\n",
       " 'arrecadacao-por-uf-internet-202002.ods',\n",
       " 'arrecadacao-por-uf-internet-202003.ods',\n",
       " 'arrecadacao-por-uf-internet-202004.ods',\n",
       " 'arrecadacao-por-uf-internet-202005.ods',\n",
       " 'arrecadacao-por-uf-internet-202006.ods',\n",
       " 'arrecadacao-por-uf-internet-202007.ods']"
      ]
     },
     "execution_count": 6,
     "metadata": {},
     "output_type": "execute_result"
    }
   ],
   "source": [
    "file_list"
   ]
  }
 ],
 "metadata": {
  "kernelspec": {
   "display_name": "Python 3",
   "language": "python",
   "name": "python3"
  },
  "language_info": {
   "codemirror_mode": {
    "name": "ipython",
    "version": 3
   },
   "file_extension": ".py",
   "mimetype": "text/x-python",
   "name": "python",
   "nbconvert_exporter": "python",
   "pygments_lexer": "ipython3",
   "version": "3.7.6"
  }
 },
 "nbformat": 4,
 "nbformat_minor": 4
}
